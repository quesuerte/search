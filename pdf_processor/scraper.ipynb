{
 "cells": [
  {
   "cell_type": "code",
   "execution_count": null,
   "id": "8f289bb9-bcb3-4eb9-8ec6-d40fd689216e",
   "metadata": {},
   "outputs": [],
   "source": [
    "!pip install lxml pulsar-client"
   ]
  },
  {
   "cell_type": "code",
   "execution_count": null,
   "id": "9c9b2a07-6984-4028-9141-699edd9021ef",
   "metadata": {},
   "outputs": [],
   "source": [
    "from bs4 import BeautifulSoup\n",
    "import requests\n",
    "import json\n",
    "\n",
    "# Testing sending messages to Pulsar--this task should be performed by the scraper\n",
    "oai_uri = \"http://export.arxiv.org/oai2?set=cs&verb=ListIdentifiers&metadataPrefix=oai_dc&from=2025-03-08\"\n",
    "page = requests.get(oai_uri)\n",
    "oai_soup = BeautifulSoup(page.content, \"xml\")\n",
    "ids = oai_soup.find_all(\"identifier\")\n",
    "urls = [id.get_text().replace('oai:arXiv.org:','https://arxiv.org/abs/') for id in ids][:10]\n",
    "\n",
    "def process_resource(url):\n",
    "    page = requests.get(url)\n",
    "    soup = BeautifulSoup(page.content, \"html.parser\")\n",
    "    title = soup.find(\"h1\",class_='title mathjax').get_text().replace('Title:','')\n",
    "    summary = soup.find(\"blockquote\", class_='abstract mathjax').get_text().replace('Abstract:','').strip()\n",
    "    authors = '\\n'.join([a.get_text() + \" (\" + a.get('href') + \")\" for a in soup.find(\"div\",class_='authors').find_all('a')])\n",
    "    pdf_url = 'https://arxiv.org' + soup.find('a',class_='download-pdf').get('href')\n",
    "    return json.dumps({\"title\": title, \"summary\": summary, \"authors\": authors, \"url\": pdf_url})\n",
    "\n",
    "msgs = [process_resource(url) for url in urls]\n",
    "print(len(msgs))\n",
    "print(msgs[0])"
   ]
  },
  {
   "cell_type": "code",
   "execution_count": null,
   "id": "02633ca9-00ac-4a15-a7cd-7a46b010c163",
   "metadata": {},
   "outputs": [],
   "source": [
    "import pulsar\n",
    "procli = pulsar.Client('pulsar://pdf-service:6650')\n",
    "producer = procli.create_producer('scraper-output')\n",
    "\n",
    "for msg in msgs:\n",
    "    producer.send(msg.encode('utf-8'))\n",
    "\n",
    "producer.close()"
   ]
  },
  {
   "cell_type": "code",
   "execution_count": null,
   "id": "273daa1e-de8c-420a-b7a9-d71486552e2a",
   "metadata": {},
   "outputs": [],
   "source": []
  }
 ],
 "metadata": {
  "kernelspec": {
   "display_name": "Python 3 (ipykernel)",
   "language": "python",
   "name": "python3"
  },
  "language_info": {
   "codemirror_mode": {
    "name": "ipython",
    "version": 3
   },
   "file_extension": ".py",
   "mimetype": "text/x-python",
   "name": "python",
   "nbconvert_exporter": "python",
   "pygments_lexer": "ipython3",
   "version": "3.11.6"
  }
 },
 "nbformat": 4,
 "nbformat_minor": 5
}
