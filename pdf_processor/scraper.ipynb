{
 "cells": [
  {
   "cell_type": "code",
   "execution_count": null,
   "id": "8f289bb9-bcb3-4eb9-8ec6-d40fd689216e",
   "metadata": {},
   "outputs": [],
   "source": [
    "!pip install lxml pulsar-client"
   ]
  },
  {
   "cell_type": "code",
   "execution_count": null,
   "id": "7ac980d8-9674-45f6-a4bb-671635232899",
   "metadata": {},
   "outputs": [],
   "source": [
    "from bs4 import BeautifulSoup\n",
    "import requests\n",
    "import json\n",
    "import pulsar\n",
    "import logging\n",
    "logging.getLogger(\"pulsar\").setLevel(logging.WARNING)\n",
    "import time\n",
    "from pdf_schema import PDFInfo\n",
    "from pulsar.schema import JsonSchema"
   ]
  },
  {
   "cell_type": "code",
   "execution_count": null,
   "id": "9c9b2a07-6984-4028-9141-699edd9021ef",
   "metadata": {},
   "outputs": [],
   "source": [
    "# Testing sending messages to Pulsar--this task should be performed by the scraper\n",
    "oai_uri = \"http://export.arxiv.org/oai2?set=cs&verb=ListIdentifiers&metadataPrefix=oai_dc&from=2025-03-08\"\n",
    "page = requests.get(oai_uri)\n",
    "oai_soup = BeautifulSoup(page.content, \"xml\")\n",
    "ids = oai_soup.find_all(\"identifier\")\n",
    "urls = [id.get_text().replace('oai:arXiv.org:','https://arxiv.org/abs/') for id in ids][:10]\n",
    "\n",
    "def process_resource(url):\n",
    "    time.sleep(3)\n",
    "    page = requests.get(url)\n",
    "    print(url)\n",
    "    soup = BeautifulSoup(page.content, \"html.parser\")\n",
    "    title = soup.find(\"h1\",class_='title mathjax').get_text().replace('Title:','')\n",
    "    summary = soup.find(\"blockquote\", class_='abstract mathjax').get_text().replace('Abstract:','').strip()\n",
    "    authors = '\\n'.join([a.get_text() + \" (\" + a.get('href') + \")\" for a in soup.find(\"div\",class_='authors').find_all('a')])\n",
    "    pdf_url = 'https://arxiv.org' + soup.find('a',class_='download-pdf').get('href')\n",
    "    return PDFInfo(title=title,summary=summary,authors=authors,url=pdf_url)\n",
    "    #return json.dumps({\"title\": title, \"summary\": summary, \"authors\": authors, \"url\": pdf_url})\n",
    "\n",
    "msgs = [process_resource(url) for url in urls]\n",
    "print(len(msgs))\n",
    "print(msgs[0])"
   ]
  },
  {
   "cell_type": "code",
   "execution_count": null,
   "id": "02633ca9-00ac-4a15-a7cd-7a46b010c163",
   "metadata": {},
   "outputs": [],
   "source": [
    "data = json.loads('''[\n",
    "  {\n",
    "    \"title\": \"Database Design - 2nd Edition\",\n",
    "    \"source\": \"https://google.com\",\n",
    "    \"authors\": \"Adrienne Watt\",\n",
    "    \"description\": \"This second edition of Database Design book covers the concepts used in database systems and the database design process. Topics include: The history of databases Characteristics and benefits of databases Data models Data modelling Classification of database management systems Integrity rules and constraints Functional dependencies Normalization Database development process New to this edition are more examples, highlighted and defined key terms, both throughout and at the end of each chapter, and end-of-chapter review exercises. Two new chapters have been added on SQL, along with appendices that include a data model example, sample ERD exercises and SQL lab with solutions.\",\n",
    "    \"url\": \"https://opentextbc.ca/dbdesign01/open/download?type=pdf\",\n",
    "    \"category\": \"databases\"\n",
    "  },\n",
    "  {\n",
    "    \"title\": \"Relational Databases and Microsoft Access 365 - Version 4.0\",\n",
    "    \"source\": \"https://google.com\",\n",
    "    \"authors\": \"Ron McFadyen\",\n",
    "    \"description\": \"This text is a free introductory text that introduces MS Access and relational database design. The motivation is to support an introductory database system course which, to the student, is either a service course providing an introduction to database concepts, or, as a prerequisite for more advanced study in the field.\",\n",
    "    \"url\": \"https://ecampusontario.pressbooks.pub/relationaldatabasesandmicrosoftaccess365/open/download?type=pdf\",\n",
    "    \"category\": \"databases\"\n",
    "  },\n",
    "  {\n",
    "    \"title\": \"The Discipline of Organizing: 4th Professional Edition\",\n",
    "    \"source\": \"https://google.com\",\n",
    "    \"authors\": \"Bob Glushko\",\n",
    "    \"description\": \"We organize things, we organize information, we organize information about things, and we organize information about information. But even though “organizing” is a fundamental and ubiquitous challenge, when we compare these activities their contrasts are more apparent than their commonalities. We propose to unify many perspectives about organizing with the concept of an Organizing System, defined as an intentionally arranged collection of resources and the interactions they support. Every Organizing System involves a collection of resources, a choice of properties or principles used to describe and arrange resources, and ways of supporting interactions with resources. By comparing and contrasting how these activities take place in different contexts and domains, we can identify patterns of organizing. We can create a discipline of organizing in a disciplined way. The 4th edition builds a bridge between organizing and data science. It reframes descriptive statistics as organizing techniques, expands the treatment of classification to include computational methods, and incorporates many new examples of data-driven resource selection, organization, maintenance, and personalization. It introduces a new “data science” category of discipline-specific content, both in the chapter text and in endnotes, marked with [DS] in editions that contain endnotes.\",\n",
    "    \"url\": \"https://berkeley.pressbooks.pub/tdo4p/open/download?type=pdf\",\n",
    "    \"category\": \"databases\"\n",
    "  },\n",
    "  {\n",
    "    \"title\": \"The Crystal Ball Instruction Manual - version 1.1 Volume One: Introduction to Data Science\",\n",
    "    \"source\": \"https://google.com\",\n",
    "    \"authors\": \"Stephen Davies\",\n",
    "    \"description\": \"A perfect introduction to the exploding field of Data Science for the curious, first-time student. The author brings his trademark conversational tone to the important pillars of the discipline: exploratory data analysis, choices for structuring data, causality, machine learning principles, and introductory Python programming using open-source Jupyter Notebooks. This engaging read will allow any dedicated learner to build the skills necessary to contribute to the Data Science revolution, regardless of background.\",\n",
    "    \"url\": \"http://stephendavies.org/crystal1.pdf\",\n",
    "    \"category\": \"databases\"\n",
    "  },\n",
    "  {\n",
    "    \"title\": \"Evidence-based Software Engineering\",\n",
    "    \"source\": \"https://google.com\",\n",
    "    \"authors\": \"Derek M. Jones\",\n",
    "    \"description\": \"This book discusses what is currently known about software engineering, based on an analysis of all the publicly available data. This aim is not as ambitious as it sounds, because there is not a great deal of data publicly available. The intent is to provide material that is useful to professional developers working in industry; until recently researchers in software engineering have been more interested in vanity work, promoted by ego and bluster. The material is organized in two parts, the first covering software engineering and the second the statistics likely to be needed for the analysis of software engineering data.\",\n",
    "    \"url\": \"http://knosof.co.uk/ESEUR/ESEUR.pdf\",\n",
    "    \"category\": \"databases\"\n",
    "  },\n",
    "  {\n",
    "    \"title\": \"Research Data Management in the Canadian Context\",\n",
    "    \"source\": \"https://google.com\",\n",
    "    \"authors\": \"Emily Carl and David E. Losada\",  \n",
    "    \"description\": \"Research Data Management is a term for all the things that researchers do to structure, organize and maintain data before, during and after doing research. RDM is also an emerging discipline that is concerned with researching and developing ways to manage research data more effectively. But what is research data? Where is the push towards formal Research Data Management coming from? What are the requirements of good data management? Research Data Management in the Canadian Context: A Guide for Practitioners and Learners looks at these questions and more, all with a focus on Canadian guidelines, regulations and infrastructure.\",\n",
    "    \"url\": \"https://ecampusontario.pressbooks.pub/canadardm/open/download?type=pdf\",\n",
    "    \"category\": \"databases\"\n",
    "  }\n",
    "]''')\n",
    "msgs = [PDFInfo(title=doc['title'],source=doc['source'],summary=doc['description'],authors=doc['authors'],url=doc['url']) for doc in data]\n",
    "\n"
   ]
  },
  {
   "cell_type": "code",
   "execution_count": null,
   "id": "7584c6af-3883-4752-93a0-16f28574f3d3",
   "metadata": {},
   "outputs": [],
   "source": [
    "procli = pulsar.Client('pulsar://pdf-service:6650')\n",
    "producer = procli.create_producer(topic='scraper-output-test',schema=JsonSchema(PDFInfo))\n",
    "\n",
    "for msg in msgs:\n",
    "    producer.send(msg)\n",
    "\n",
    "producer.close()"
   ]
  },
  {
   "cell_type": "code",
   "execution_count": null,
   "id": "273daa1e-de8c-420a-b7a9-d71486552e2a",
   "metadata": {},
   "outputs": [],
   "source": [
    "pulcli = pulsar.Client('pulsar://pdf-service:6650')\n",
    "consumer = pulcli.subscribe(\n",
    "              topic='scraper-output-test',\n",
    "              subscription_name=f\"test-consumer\",\n",
    "              schema=JsonSchema(PDFInfo) )\n",
    "msg = consumer.receive()\n",
    "try:\n",
    "    json = msg.value()\n",
    "    print(json.url)\n",
    "    consumer.acknowledge(msg)\n",
    "except Exception as e:\n",
    "    consumer.negative_acknowledge(msg)\n",
    "    print(f\"Failed to process message: {e}\")\n",
    "finally:\n",
    "    consumer.close()"
   ]
  },
  {
   "cell_type": "code",
   "execution_count": null,
   "id": "e6de304a-0e6d-46f4-9ff8-0694fb0229af",
   "metadata": {},
   "outputs": [],
   "source": []
  }
 ],
 "metadata": {
  "kernelspec": {
   "display_name": "Python 3 (ipykernel)",
   "language": "python",
   "name": "python3"
  },
  "language_info": {
   "codemirror_mode": {
    "name": "ipython",
    "version": 3
   },
   "file_extension": ".py",
   "mimetype": "text/x-python",
   "name": "python",
   "nbconvert_exporter": "python",
   "pygments_lexer": "ipython3",
   "version": "3.11.6"
  }
 },
 "nbformat": 4,
 "nbformat_minor": 5
}
