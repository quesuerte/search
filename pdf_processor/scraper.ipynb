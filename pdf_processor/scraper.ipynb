{
 "cells": [
  {
   "cell_type": "code",
   "execution_count": null,
   "id": "8f289bb9-bcb3-4eb9-8ec6-d40fd689216e",
   "metadata": {},
   "outputs": [],
   "source": [
    "!pip install lxml pulsar-client"
   ]
  },
  {
   "cell_type": "code",
   "execution_count": 6,
   "id": "7ac980d8-9674-45f6-a4bb-671635232899",
   "metadata": {},
   "outputs": [],
   "source": [
    "from bs4 import BeautifulSoup\n",
    "import requests\n",
    "import json\n",
    "import pulsar\n",
    "import logging\n",
    "logging.getLogger(\"pulsar\").setLevel(logging.WARNING)\n",
    "import time\n",
    "from pdf_schema import PDFInfo\n",
    "from pulsar.schema import JsonSchema"
   ]
  },
  {
   "cell_type": "code",
   "execution_count": 3,
   "id": "9c9b2a07-6984-4028-9141-699edd9021ef",
   "metadata": {},
   "outputs": [
    {
     "name": "stdout",
     "output_type": "stream",
     "text": [
      "https://arxiv.org/abs/1004.2931\n"
     ]
    },
    {
     "ename": "AttributeError",
     "evalue": "'NoneType' object has no attribute 'get_text'",
     "output_type": "error",
     "traceback": [
      "\u001b[0;31m---------------------------------------------------------------------------\u001b[0m",
      "\u001b[0;31mAttributeError\u001b[0m                            Traceback (most recent call last)",
      "Cell \u001b[0;32mIn[3], line 20\u001b[0m\n\u001b[1;32m     17\u001b[0m     \u001b[38;5;28;01mreturn\u001b[39;00m PDFInfo(title\u001b[38;5;241m=\u001b[39mtitle,summary\u001b[38;5;241m=\u001b[39msummary,authors\u001b[38;5;241m=\u001b[39mauthors,url\u001b[38;5;241m=\u001b[39mpdf_url)\n\u001b[1;32m     18\u001b[0m     \u001b[38;5;66;03m#return json.dumps({\"title\": title, \"summary\": summary, \"authors\": authors, \"url\": pdf_url})\u001b[39;00m\n\u001b[0;32m---> 20\u001b[0m msgs \u001b[38;5;241m=\u001b[39m \u001b[43m[\u001b[49m\u001b[43mprocess_resource\u001b[49m\u001b[43m(\u001b[49m\u001b[43murl\u001b[49m\u001b[43m)\u001b[49m\u001b[43m \u001b[49m\u001b[38;5;28;43;01mfor\u001b[39;49;00m\u001b[43m \u001b[49m\u001b[43murl\u001b[49m\u001b[43m \u001b[49m\u001b[38;5;129;43;01min\u001b[39;49;00m\u001b[43m \u001b[49m\u001b[43murls\u001b[49m\u001b[43m]\u001b[49m\n\u001b[1;32m     21\u001b[0m \u001b[38;5;28mprint\u001b[39m(\u001b[38;5;28mlen\u001b[39m(msgs))\n\u001b[1;32m     22\u001b[0m \u001b[38;5;28mprint\u001b[39m(msgs[\u001b[38;5;241m0\u001b[39m])\n",
      "Cell \u001b[0;32mIn[3], line 20\u001b[0m, in \u001b[0;36m<listcomp>\u001b[0;34m(.0)\u001b[0m\n\u001b[1;32m     17\u001b[0m     \u001b[38;5;28;01mreturn\u001b[39;00m PDFInfo(title\u001b[38;5;241m=\u001b[39mtitle,summary\u001b[38;5;241m=\u001b[39msummary,authors\u001b[38;5;241m=\u001b[39mauthors,url\u001b[38;5;241m=\u001b[39mpdf_url)\n\u001b[1;32m     18\u001b[0m     \u001b[38;5;66;03m#return json.dumps({\"title\": title, \"summary\": summary, \"authors\": authors, \"url\": pdf_url})\u001b[39;00m\n\u001b[0;32m---> 20\u001b[0m msgs \u001b[38;5;241m=\u001b[39m [\u001b[43mprocess_resource\u001b[49m\u001b[43m(\u001b[49m\u001b[43murl\u001b[49m\u001b[43m)\u001b[49m \u001b[38;5;28;01mfor\u001b[39;00m url \u001b[38;5;129;01min\u001b[39;00m urls]\n\u001b[1;32m     21\u001b[0m \u001b[38;5;28mprint\u001b[39m(\u001b[38;5;28mlen\u001b[39m(msgs))\n\u001b[1;32m     22\u001b[0m \u001b[38;5;28mprint\u001b[39m(msgs[\u001b[38;5;241m0\u001b[39m])\n",
      "Cell \u001b[0;32mIn[3], line 13\u001b[0m, in \u001b[0;36mprocess_resource\u001b[0;34m(url)\u001b[0m\n\u001b[1;32m     11\u001b[0m \u001b[38;5;28mprint\u001b[39m(url)\n\u001b[1;32m     12\u001b[0m soup \u001b[38;5;241m=\u001b[39m BeautifulSoup(page\u001b[38;5;241m.\u001b[39mcontent, \u001b[38;5;124m\"\u001b[39m\u001b[38;5;124mhtml.parser\u001b[39m\u001b[38;5;124m\"\u001b[39m)\n\u001b[0;32m---> 13\u001b[0m title \u001b[38;5;241m=\u001b[39m \u001b[43msoup\u001b[49m\u001b[38;5;241;43m.\u001b[39;49m\u001b[43mfind\u001b[49m\u001b[43m(\u001b[49m\u001b[38;5;124;43m\"\u001b[39;49m\u001b[38;5;124;43mh1\u001b[39;49m\u001b[38;5;124;43m\"\u001b[39;49m\u001b[43m,\u001b[49m\u001b[43mclass_\u001b[49m\u001b[38;5;241;43m=\u001b[39;49m\u001b[38;5;124;43m'\u001b[39;49m\u001b[38;5;124;43mtitle mathjax\u001b[39;49m\u001b[38;5;124;43m'\u001b[39;49m\u001b[43m)\u001b[49m\u001b[38;5;241;43m.\u001b[39;49m\u001b[43mget_text\u001b[49m()\u001b[38;5;241m.\u001b[39mreplace(\u001b[38;5;124m'\u001b[39m\u001b[38;5;124mTitle:\u001b[39m\u001b[38;5;124m'\u001b[39m,\u001b[38;5;124m'\u001b[39m\u001b[38;5;124m'\u001b[39m)\n\u001b[1;32m     14\u001b[0m summary \u001b[38;5;241m=\u001b[39m soup\u001b[38;5;241m.\u001b[39mfind(\u001b[38;5;124m\"\u001b[39m\u001b[38;5;124mblockquote\u001b[39m\u001b[38;5;124m\"\u001b[39m, class_\u001b[38;5;241m=\u001b[39m\u001b[38;5;124m'\u001b[39m\u001b[38;5;124mabstract mathjax\u001b[39m\u001b[38;5;124m'\u001b[39m)\u001b[38;5;241m.\u001b[39mget_text()\u001b[38;5;241m.\u001b[39mreplace(\u001b[38;5;124m'\u001b[39m\u001b[38;5;124mAbstract:\u001b[39m\u001b[38;5;124m'\u001b[39m,\u001b[38;5;124m'\u001b[39m\u001b[38;5;124m'\u001b[39m)\u001b[38;5;241m.\u001b[39mstrip()\n\u001b[1;32m     15\u001b[0m authors \u001b[38;5;241m=\u001b[39m \u001b[38;5;124m'\u001b[39m\u001b[38;5;130;01m\\n\u001b[39;00m\u001b[38;5;124m'\u001b[39m\u001b[38;5;241m.\u001b[39mjoin([a\u001b[38;5;241m.\u001b[39mget_text() \u001b[38;5;241m+\u001b[39m \u001b[38;5;124m\"\u001b[39m\u001b[38;5;124m (\u001b[39m\u001b[38;5;124m\"\u001b[39m \u001b[38;5;241m+\u001b[39m a\u001b[38;5;241m.\u001b[39mget(\u001b[38;5;124m'\u001b[39m\u001b[38;5;124mhref\u001b[39m\u001b[38;5;124m'\u001b[39m) \u001b[38;5;241m+\u001b[39m \u001b[38;5;124m\"\u001b[39m\u001b[38;5;124m)\u001b[39m\u001b[38;5;124m\"\u001b[39m \u001b[38;5;28;01mfor\u001b[39;00m a \u001b[38;5;129;01min\u001b[39;00m soup\u001b[38;5;241m.\u001b[39mfind(\u001b[38;5;124m\"\u001b[39m\u001b[38;5;124mdiv\u001b[39m\u001b[38;5;124m\"\u001b[39m,class_\u001b[38;5;241m=\u001b[39m\u001b[38;5;124m'\u001b[39m\u001b[38;5;124mauthors\u001b[39m\u001b[38;5;124m'\u001b[39m)\u001b[38;5;241m.\u001b[39mfind_all(\u001b[38;5;124m'\u001b[39m\u001b[38;5;124ma\u001b[39m\u001b[38;5;124m'\u001b[39m)])\n",
      "\u001b[0;31mAttributeError\u001b[0m: 'NoneType' object has no attribute 'get_text'"
     ]
    }
   ],
   "source": [
    "# Testing sending messages to Pulsar--this task should be performed by the scraper\n",
    "oai_uri = \"http://export.arxiv.org/oai2?set=cs&verb=ListIdentifiers&metadataPrefix=oai_dc&from=2025-03-08\"\n",
    "page = requests.get(oai_uri)\n",
    "oai_soup = BeautifulSoup(page.content, \"xml\")\n",
    "ids = oai_soup.find_all(\"identifier\")\n",
    "urls = [id.get_text().replace('oai:arXiv.org:','https://arxiv.org/abs/') for id in ids][:10]\n",
    "\n",
    "def process_resource(url):\n",
    "    time.sleep(3)\n",
    "    page = requests.get(url)\n",
    "    print(url)\n",
    "    soup = BeautifulSoup(page.content, \"html.parser\")\n",
    "    title = soup.find(\"h1\",class_='title mathjax').get_text().replace('Title:','')\n",
    "    summary = soup.find(\"blockquote\", class_='abstract mathjax').get_text().replace('Abstract:','').strip()\n",
    "    authors = '\\n'.join([a.get_text() + \" (\" + a.get('href') + \")\" for a in soup.find(\"div\",class_='authors').find_all('a')])\n",
    "    pdf_url = 'https://arxiv.org' + soup.find('a',class_='download-pdf').get('href')\n",
    "    return PDFInfo(title=title,summary=summary,authors=authors,url=pdf_url)\n",
    "    #return json.dumps({\"title\": title, \"summary\": summary, \"authors\": authors, \"url\": pdf_url})\n",
    "\n",
    "msgs = [process_resource(url) for url in urls]\n",
    "print(len(msgs))\n",
    "print(msgs[0])"
   ]
  },
  {
   "cell_type": "code",
   "execution_count": 13,
   "id": "02633ca9-00ac-4a15-a7cd-7a46b010c163",
   "metadata": {},
   "outputs": [
    {
     "name": "stdout",
     "output_type": "stream",
     "text": [
      "2025-03-26 19:40:01.009 INFO  [140312862250560] ProducerStatsImpl:87 | Producer [persistent://public/default/scraper-output-test, ] , ProducerStatsImpl (numMsgsSent_ = 1, numBytesSent_ = 1706, sendMap_ = {[Key: Ok, Value: 1], }, latencyAccumulator_ = Latencies [ 50pct: 0ms, 90pct: 0ms, 99pct: 0ms, 99.9pct: 0ms], totalMsgsSent_ = 1, totalBytesSent_ = 1706, totalAcksReceived_ = , totalSendMap_ = {[Key: Ok, Value: 1], }, totalLatencyAccumulator_ = Latencies [ 50pct: 0ms, 90pct: 0ms, 99pct: 0ms, 99.9pct: 0ms])\n"
     ]
    }
   ],
   "source": [
    "data = json.loads('''[\n",
    "  {\n",
    "    \"title\": \"Database Design - 2nd Edition\",\n",
    "    \"authors\": \"Adrienne Watt\",\n",
    "    \"description\": \"This second edition of Database Design book covers the concepts used in database systems and the database design process. Topics include: The history of databases Characteristics and benefits of databases Data models Data modelling Classification of database management systems Integrity rules and constraints Functional dependencies Normalization Database development process New to this edition are more examples, highlighted and defined key terms, both throughout and at the end of each chapter, and end-of-chapter review exercises. Two new chapters have been added on SQL, along with appendices that include a data model example, sample ERD exercises and SQL lab with solutions.\",\n",
    "    \"url\": \"https://opentextbc.ca/dbdesign01/open/download?type=pdf\",\n",
    "    \"category\": \"databases\"\n",
    "  },\n",
    "  {\n",
    "    \"title\": \"Relational Databases and Microsoft Access 365 - Version 4.0\",\n",
    "    \"authors\": \"Ron McFadyen\",\n",
    "    \"description\": \"This text is a free introductory text that introduces MS Access and relational database design. The motivation is to support an introductory database system course which, to the student, is either a service course providing an introduction to database concepts, or, as a prerequisite for more advanced study in the field.\",\n",
    "    \"url\": \"https://ecampusontario.pressbooks.pub/relationaldatabasesandmicrosoftaccess365/open/download?type=pdf\",\n",
    "    \"category\": \"databases\"\n",
    "  },\n",
    "  {\n",
    "    \"title\": \"The Discipline of Organizing: 4th Professional Edition\",\n",
    "    \"authors\": \"Bob Glushko\",\n",
    "    \"description\": \"We organize things, we organize information, we organize information about things, and we organize information about information. But even though “organizing” is a fundamental and ubiquitous challenge, when we compare these activities their contrasts are more apparent than their commonalities. We propose to unify many perspectives about organizing with the concept of an Organizing System, defined as an intentionally arranged collection of resources and the interactions they support. Every Organizing System involves a collection of resources, a choice of properties or principles used to describe and arrange resources, and ways of supporting interactions with resources. By comparing and contrasting how these activities take place in different contexts and domains, we can identify patterns of organizing. We can create a discipline of organizing in a disciplined way. The 4th edition builds a bridge between organizing and data science. It reframes descriptive statistics as organizing techniques, expands the treatment of classification to include computational methods, and incorporates many new examples of data-driven resource selection, organization, maintenance, and personalization. It introduces a new “data science” category of discipline-specific content, both in the chapter text and in endnotes, marked with [DS] in editions that contain endnotes.\",\n",
    "    \"url\": \"https://berkeley.pressbooks.pub/tdo4p/open/download?type=pdf\",\n",
    "    \"category\": \"databases\"\n",
    "  },\n",
    "  {\n",
    "    \"title\": \"The Crystal Ball Instruction Manual - version 1.1 Volume One: Introduction to Data Science\",\n",
    "    \"authors\": \"Stephen Davies\",\n",
    "    \"description\": \"A perfect introduction to the exploding field of Data Science for the curious, first-time student. The author brings his trademark conversational tone to the important pillars of the discipline: exploratory data analysis, choices for structuring data, causality, machine learning principles, and introductory Python programming using open-source Jupyter Notebooks. This engaging read will allow any dedicated learner to build the skills necessary to contribute to the Data Science revolution, regardless of background.\",\n",
    "    \"url\": \"http://stephendavies.org/crystal1.pdf\",\n",
    "    \"category\": \"databases\"\n",
    "  },\n",
    "  {\n",
    "    \"title\": \"Evidence-based Software Engineering\",\n",
    "    \"authors\": \"Derek M. Jones\",\n",
    "    \"description\": \"This book discusses what is currently known about software engineering, based on an analysis of all the publicly available data. This aim is not as ambitious as it sounds, because there is not a great deal of data publicly available. The intent is to provide material that is useful to professional developers working in industry; until recently researchers in software engineering have been more interested in vanity work, promoted by ego and bluster. The material is organized in two parts, the first covering software engineering and the second the statistics likely to be needed for the analysis of software engineering data.\",\n",
    "    \"url\": \"http://knosof.co.uk/ESEUR/ESEUR.pdf\",\n",
    "    \"category\": \"databases\"\n",
    "  },\n",
    "  {\n",
    "    \"title\": \"Research Data Management in the Canadian Context\",\n",
    "    \"authors\": \"Emily Carl and David E. Losada\",  \n",
    "    \"description\": \"Research Data Management is a term for all the things that researchers do to structure, organize and maintain data before, during and after doing research. RDM is also an emerging discipline that is concerned with researching and developing ways to manage research data more effectively. But what is research data? Where is the push towards formal Research Data Management coming from? What are the requirements of good data management? Research Data Management in the Canadian Context: A Guide for Practitioners and Learners looks at these questions and more, all with a focus on Canadian guidelines, regulations and infrastructure.\",\n",
    "    \"url\": \"https://ecampusontario.pressbooks.pub/canadardm/open/download?type=pdf\",\n",
    "    \"category\": \"databases\"\n",
    "  }\n",
    "]''')\n",
    "msgs = [PDFInfo(title=doc['title'],summary=doc['description'],authors=doc['authors'],url=doc['url']) for doc in data]\n",
    "\n"
   ]
  },
  {
   "cell_type": "code",
   "execution_count": 16,
   "id": "7584c6af-3883-4752-93a0-16f28574f3d3",
   "metadata": {},
   "outputs": [
    {
     "name": "stdout",
     "output_type": "stream",
     "text": [
      "2025-03-26 20:02:40.027 INFO  [140313733773120] ClientConnection:193 | [<none> -> pulsar://pdf-service:6650] Create ClientConnection, timeout=10000\n",
      "2025-03-26 20:02:40.027 INFO  [140313733773120] ConnectionPool:124 | Created connection for pulsar://pdf-service:6650-pulsar://pdf-service:6650-0\n",
      "2025-03-26 20:02:40.029 INFO  [140312870643264] ClientConnection:410 | [10.1.1.31:46024 -> 10.102.154.227:6650] Connected to broker\n",
      "2025-03-26 20:02:40.031 INFO  [140312870643264] HandlerBase:115 | [persistent://public/default/scraper-output-test, ] Getting connection from pool\n",
      "2025-03-26 20:02:40.033 INFO  [140312870643264] BinaryProtoLookupService:85 | Lookup response for persistent://public/default/scraper-output-test, lookup-broker-url pulsar://localhost:6650, from [10.1.1.31:46024 -> 10.102.154.227:6650] \n",
      "2025-03-26 20:02:40.033 INFO  [140312870643264] ClientConnection:193 | [<none> -> pulsar://pdf-service:6650] Create ClientConnection, timeout=10000\n",
      "2025-03-26 20:02:40.033 INFO  [140312870643264] ConnectionPool:124 | Created connection for pulsar://localhost:6650-pulsar://pdf-service:6650-0\n",
      "2025-03-26 20:02:40.035 INFO  [140312870643264] ClientConnection:412 | [10.1.1.31:46032 -> 10.102.154.227:6650] Connected to broker through proxy. Logical broker: pulsar://localhost:6650, proxy: , physical address:pulsar://pdf-service:6650\n",
      "2025-03-26 20:02:40.036 INFO  [140312870643264] ProducerImpl:147 | Creating producer for topic:persistent://public/default/scraper-output-test, producerName: on [10.1.1.31:46032 -> 10.102.154.227:6650] \n",
      "2025-03-26 20:02:40.041 INFO  [140312870643264] ProducerImpl:220 | [persistent://public/default/scraper-output-test, ] Created producer on broker [10.1.1.31:46032 -> 10.102.154.227:6650] \n",
      "2025-03-26 20:02:40.041 INFO  [140312870643264] HandlerBase:138 | Finished connecting to broker after 9 ms\n",
      "2025-03-26 20:02:40.041 INFO  [140313733773120] ProducerImpl:757 | Producer - [persistent://public/default/scraper-output-test, standalone-0-2415] , [batching  = off]\n",
      "2025-03-26 20:02:40.042 INFO  [140313733773120] ClientConnection:1334 | [10.1.1.31:60064 -> 10.102.154.227:6650] Connection disconnected (refCnt: 2)\n",
      "2025-03-26 20:02:40.042 INFO  [140313733773120] ClientConnection:1334 | [10.1.1.31:60054 -> 10.102.154.227:6650] Connection disconnected (refCnt: 1)\n",
      "2025-03-26 20:02:40.042 INFO  [140313733773120] ClientConnection:282 | [10.1.1.31:60054 -> 10.102.154.227:6650] Destroyed connection to pulsar://pdf-service:6650-0\n",
      "2025-03-26 20:02:40.042 INFO  [140313733773120] ClientConnection:282 | [10.1.1.31:60064 -> 10.102.154.227:6650] Destroyed connection to pulsar://localhost:6650-0\n",
      "2025-03-26 20:02:40.090 INFO  [140313733773120] ProducerImpl:800 | [persistent://public/default/scraper-output-test, standalone-0-2504] Closing producer for topic persistent://public/default/scraper-output-test\n",
      "2025-03-26 20:02:40.094 INFO  [140312870643264] ProducerImpl:764 | [persistent://public/default/scraper-output-test, standalone-0-2504] Closed producer 0\n",
      "2025-03-26 20:12:39.963 INFO  [140312870643264] ProducerStatsImpl:87 | Producer [persistent://public/default/scraper-output-test, ] , ProducerStatsImpl (numMsgsSent_ = 6, numBytesSent_ = 5297, sendMap_ = {[Key: Ok, Value: 6], }, latencyAccumulator_ = Latencies [ 50pct: 4.07ms, 90pct: 3.782ms, 99pct: 0ms, 99.9pct: 0ms], totalMsgsSent_ = 6, totalBytesSent_ = 5297, totalAcksReceived_ = , totalSendMap_ = {[Key: Ok, Value: 6], }, totalLatencyAccumulator_ = Latencies [ 50pct: 4.07ms, 90pct: 3.782ms, 99pct: 0ms, 99.9pct: 0ms])\n"
     ]
    }
   ],
   "source": [
    "procli = pulsar.Client('pulsar://pdf-service:6650')\n",
    "producer = procli.create_producer(topic='scraper-output-test',schema=JsonSchema(PDFInfo))\n",
    "\n",
    "for msg in msgs:\n",
    "    producer.send(msg)\n",
    "\n",
    "producer.close()"
   ]
  },
  {
   "cell_type": "code",
   "execution_count": 57,
   "id": "273daa1e-de8c-420a-b7a9-d71486552e2a",
   "metadata": {},
   "outputs": [
    {
     "name": "stdout",
     "output_type": "stream",
     "text": [
      "2025-03-26 17:46:31.831 INFO  [140171019790144] Client:86 | Subscribing on Topic :scraper-output-test\n",
      "2025-03-26 17:46:31.831 INFO  [140171019790144] ClientConnection:193 | [<none> -> pulsar://pdf-service:6650] Create ClientConnection, timeout=10000\n",
      "2025-03-26 17:46:31.831 INFO  [140171019790144] ConnectionPool:124 | Created connection for pulsar://pdf-service:6650-pulsar://pdf-service:6650-0\n",
      "2025-03-26 17:46:31.834 INFO  [140168925271616] ClientConnection:410 | [10.1.1.31:56734 -> 10.102.154.227:6650] Connected to broker\n",
      "2025-03-26 17:46:31.838 INFO  [140168925271616] HandlerBase:115 | [persistent://public/default/scraper-output-test, test-consumer, 0] Getting connection from pool\n",
      "2025-03-26 17:46:31.839 INFO  [140168925271616] BinaryProtoLookupService:85 | Lookup response for persistent://public/default/scraper-output-test, lookup-broker-url pulsar://localhost:6650, from [10.1.1.31:56734 -> 10.102.154.227:6650] \n",
      "2025-03-26 17:46:31.840 INFO  [140168925271616] ClientConnection:193 | [<none> -> pulsar://pdf-service:6650] Create ClientConnection, timeout=10000\n",
      "2025-03-26 17:46:31.840 INFO  [140168925271616] ConnectionPool:124 | Created connection for pulsar://localhost:6650-pulsar://pdf-service:6650-0\n",
      "2025-03-26 17:46:31.842 INFO  [140168925271616] ClientConnection:412 | [10.1.1.31:56738 -> 10.102.154.227:6650] Connected to broker through proxy. Logical broker: pulsar://localhost:6650, proxy: , physical address:pulsar://pdf-service:6650\n",
      "2025-03-26 17:46:31.849 INFO  [140168925271616] ConsumerImpl:311 | [persistent://public/default/scraper-output-test, test-consumer, 0] Created consumer on broker [10.1.1.31:56738 -> 10.102.154.227:6650] \n",
      "2025-03-26 17:46:31.850 INFO  [140168925271616] HandlerBase:138 | Finished connecting to broker after 11 ms\n",
      "2025-03-26 17:46:31.850 INFO  [140171019790144] ClientConnection:1334 | [10.1.1.31:49986 -> 10.102.154.227:6650] Connection disconnected (refCnt: 1)\n",
      "2025-03-26 17:46:31.850 INFO  [140171019790144] ClientConnection:1334 | [10.1.1.31:49978 -> 10.102.154.227:6650] Connection disconnected (refCnt: 1)\n",
      "2025-03-26 17:46:31.850 INFO  [140171019790144] ClientConnection:282 | [10.1.1.31:49978 -> 10.102.154.227:6650] Destroyed connection to pulsar://pdf-service:6650-0\n",
      "2025-03-26 17:46:31.850 INFO  [140171019790144] ClientConnection:282 | [10.1.1.31:49986 -> 10.102.154.227:6650] Destroyed connection to pulsar://localhost:6650-0\n",
      "https://arxiv.org/pdf/1507.01546\n",
      "2025-03-26 17:46:31.870 INFO  [140171019790144] ConsumerImpl:1288 | [persistent://public/default/scraper-output-test, test-consumer, 0] Closing consumer for topic persistent://public/default/scraper-output-test\n",
      "2025-03-26 17:46:31.874 INFO  [140168925271616] ConsumerImpl:1272 | [persistent://public/default/scraper-output-test, test-consumer, 0] Closed consumer 0\n",
      "2025-03-26 17:48:23.002 INFO  [140169514571328] ProducerStatsImpl:87 | Producer [persistent://public/default/scraper-output-test, ] , ProducerStatsImpl (numMsgsSent_ = 10, numBytesSent_ = 12756, sendMap_ = {[Key: Ok, Value: 10], }, latencyAccumulator_ = Latencies [ 50pct: 12.874ms, 90pct: 6.482ms, 99pct: 11.234ms, 99.9pct: 4.636ms], totalMsgsSent_ = 10, totalBytesSent_ = 12756, totalAcksReceived_ = , totalSendMap_ = {[Key: Ok, Value: 10], }, totalLatencyAccumulator_ = Latencies [ 50pct: 12.874ms, 90pct: 6.482ms, 99pct: 11.234ms, 99.9pct: 4.636ms])\n"
     ]
    }
   ],
   "source": [
    "pulcli = pulsar.Client('pulsar://pdf-service:6650')\n",
    "consumer = pulcli.subscribe(\n",
    "              topic='scraper-output-test',\n",
    "              subscription_name=f\"test-consumer\",\n",
    "              schema=JsonSchema(PDFInfo) )\n",
    "msg = consumer.receive()\n",
    "try:\n",
    "    json = msg.value()\n",
    "    print(json.url)\n",
    "    consumer.acknowledge(msg)\n",
    "except Exception as e:\n",
    "    consumer.negative_acknowledge(msg)\n",
    "    print(f\"Failed to process message: {e}\")\n",
    "finally:\n",
    "    consumer.close()"
   ]
  },
  {
   "cell_type": "code",
   "execution_count": null,
   "id": "e6de304a-0e6d-46f4-9ff8-0694fb0229af",
   "metadata": {},
   "outputs": [],
   "source": []
  }
 ],
 "metadata": {
  "kernelspec": {
   "display_name": "Python 3 (ipykernel)",
   "language": "python",
   "name": "python3"
  },
  "language_info": {
   "codemirror_mode": {
    "name": "ipython",
    "version": 3
   },
   "file_extension": ".py",
   "mimetype": "text/x-python",
   "name": "python",
   "nbconvert_exporter": "python",
   "pygments_lexer": "ipython3",
   "version": "3.11.6"
  }
 },
 "nbformat": 4,
 "nbformat_minor": 5
}
